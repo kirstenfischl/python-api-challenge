{
 "cells": [
  {
   "cell_type": "markdown",
   "metadata": {},
   "source": [
    "# WeatherPy"
   ]
  },
  {
   "cell_type": "code",
   "execution_count": 1,
   "metadata": {
    "scrolled": true
   },
   "outputs": [],
   "source": [
    "# Dependencies and Setup\n",
    "import matplotlib.pyplot as plt\n",
    "import pandas as pd\n",
    "import numpy as np\n",
    "import requests\n",
    "import time\n",
    "from scipy.stats import linregress\n",
    "\n",
    "# Import API key\n",
    "from api_keys import weather_api_key\n",
    "\n",
    "# Incorporated citipy to determine city based on latitude and longitude\n",
    "from citipy import citipy\n",
    "\n",
    "# Range of latitudes and longitudes\n",
    "lat_range = (-90, 90)\n",
    "lng_range = (-180, 180)"
   ]
  },
  {
   "cell_type": "markdown",
   "metadata": {},
   "source": [
    "## Generate Cities List"
   ]
  },
  {
   "cell_type": "code",
   "execution_count": 2,
   "metadata": {},
   "outputs": [
    {
     "data": {
      "text/plain": [
       "609"
      ]
     },
     "execution_count": 2,
     "metadata": {},
     "output_type": "execute_result"
    }
   ],
   "source": [
    "# List for holding lat_lngs and cities\n",
    "lat_lngs = []\n",
    "cities = []\n",
    "\n",
    "# Create a set of random lat and lng combinations\n",
    "lats = np.random.uniform(low=-90.000, high=90.000, size=1500)\n",
    "lngs = np.random.uniform(low=-180.000, high=180.000, size=1500)\n",
    "lat_lngs = zip(lats, lngs)\n",
    "\n",
    "# Identify nearest city for each lat, lng combination\n",
    "for lat_lng in lat_lngs:\n",
    "    city = citipy.nearest_city(lat_lng[0], lat_lng[1]).city_name\n",
    "    \n",
    "    # If the city is unique, then add it to a our cities list\n",
    "    if city not in cities:\n",
    "        cities.append(city)\n",
    "\n",
    "# Print the city count to confirm sufficient count\n",
    "len(cities)"
   ]
  },
  {
   "cell_type": "markdown",
   "metadata": {},
   "source": [
    "### Perform API Calls\n",
    "* Perform a weather check on each city using a series of successive API calls.\n",
    "* Include a print log of each city as it'sbeing processed (with the city number and city name).\n"
   ]
  },
  {
   "cell_type": "code",
   "execution_count": 3,
   "metadata": {},
   "outputs": [],
   "source": [
    "api_key = \"961672af7ff7d9678160bebb260440db\"\n",
    "\n",
    "url = \"http://api.openweathermap.org/data/2.5/weather?units=Imperial&APPID=\" + api_key\n",
    "\n",
    "data = []"
   ]
  },
  {
   "cell_type": "code",
   "execution_count": 4,
   "metadata": {},
   "outputs": [
    {
     "name": "stdout",
     "output_type": "stream",
     "text": [
      "Beginning Data Retrieval\n",
      "-----------------------------\n",
      "1 yarensk\n",
      "2 albany\n",
      "3 portland\n",
      "4 olyka\n",
      "5 castro\n",
      "6 tumannyy\n",
      "City not found. Skipping...\n",
      "7 hermanus\n",
      "8 half moon bay\n",
      "9 rikitea\n",
      "10 mataura\n",
      "11 timmins\n",
      "12 encheng\n",
      "13 nizhneyansk\n",
      "City not found. Skipping...\n",
      "14 karratha\n",
      "15 port elizabeth\n",
      "16 chuy\n",
      "17 ushuaia\n",
      "18 pavilosta\n",
      "19 yarada\n",
      "20 cape town\n",
      "21 leninskoye\n",
      "22 carnarvon\n",
      "23 kaitangata\n",
      "24 umzimvubu\n",
      "City not found. Skipping...\n",
      "25 geraldton\n",
      "26 chokurdakh\n",
      "27 sao joao da barra\n",
      "28 jamestown\n",
      "29 alyangula\n",
      "30 kuytun\n",
      "31 hobart\n",
      "32 saint-philippe\n",
      "33 madang\n",
      "34 pisco\n",
      "35 hofn\n",
      "36 lorengau\n",
      "37 punta arenas\n",
      "38 ponta do sol\n",
      "39 khatanga\n",
      "40 makkaveyevo\n",
      "41 yaguajay\n",
      "42 mahebourg\n",
      "43 bowen\n",
      "44 airai\n",
      "45 matara\n",
      "46 illoqqortoormiut\n",
      "City not found. Skipping...\n",
      "47 hilo\n",
      "48 pangnirtung\n",
      "49 flin flon\n",
      "50 caravelas\n",
      "51 madera\n",
      "52 talnakh\n",
      "53 baran\n",
      "54 natal\n",
      "55 aklavik\n",
      "56 busselton\n",
      "57 southbridge\n",
      "58 lolua\n",
      "City not found. Skipping...\n",
      "59 tilichiki\n",
      "60 sentyabrskiy\n",
      "City not found. Skipping...\n",
      "61 new norfolk\n",
      "62 muros\n",
      "63 inuvik\n",
      "64 smolenskoye\n",
      "65 ribeira grande\n",
      "66 tuktoyaktuk\n",
      "67 tiksi\n",
      "68 east london\n",
      "69 wyndham\n",
      "70 chany\n",
      "71 ryotsu\n",
      "72 apac\n",
      "73 bathsheba\n",
      "74 barentsburg\n",
      "City not found. Skipping...\n",
      "75 bintulu\n",
      "76 yellowknife\n",
      "77 batsfjord\n",
      "78 saint anthony\n",
      "79 ust-nera\n",
      "80 andra\n",
      "81 lavrentiya\n",
      "82 vaini\n",
      "83 dingle\n",
      "84 brigantine\n",
      "85 vallentuna\n",
      "86 ballina\n",
      "87 ayan\n",
      "88 pevek\n",
      "89 catole do rocha\n",
      "90 bluff\n",
      "91 naples\n",
      "92 taolanaro\n",
      "City not found. Skipping...\n",
      "93 bone\n",
      "94 haimen\n",
      "95 fortuna\n",
      "96 shelburne\n",
      "97 qorveh\n",
      "98 jumla\n",
      "99 tautira\n",
      "100 tombouctou\n",
      "101 butaritari\n",
      "102 mys shmidta\n",
      "City not found. Skipping...\n",
      "103 saleaula\n",
      "City not found. Skipping...\n",
      "104 tlapa\n",
      "City not found. Skipping...\n",
      "105 torbay\n",
      "106 borba\n",
      "107 bud\n",
      "108 cherskiy\n",
      "109 gogrial\n",
      "110 puerto quijarro\n",
      "111 darnah\n",
      "112 khonuu\n",
      "City not found. Skipping...\n",
      "113 luwuk\n",
      "114 port alfred\n",
      "115 egvekinot\n",
      "116 bowling green\n",
      "117 okha\n",
      "118 daru\n",
      "119 sandwick\n",
      "120 gari\n",
      "121 san juan\n",
      "122 qaanaaq\n",
      "123 dalbandin\n",
      "124 kapaa\n",
      "125 gazli\n",
      "126 upernavik\n",
      "127 buala\n",
      "128 puerto maldonado\n",
      "129 srednekolymsk\n",
      "130 belushya guba\n",
      "City not found. Skipping...\n",
      "131 arraial do cabo\n",
      "132 bethel\n",
      "133 port-cartier\n",
      "134 jojoima\n",
      "135 amderma\n",
      "City not found. Skipping...\n",
      "136 longyearbyen\n",
      "137 ancud\n",
      "138 bollnas\n",
      "139 axim\n",
      "140 umm kaddadah\n",
      "141 clyde river\n",
      "142 sitka\n",
      "143 barrow\n",
      "144 toftir\n",
      "City not found. Skipping...\n",
      "145 hami\n",
      "146 los algarrobos\n",
      "147 varhaug\n",
      "148 vaitupu\n",
      "City not found. Skipping...\n",
      "149 thompson\n",
      "150 kununurra\n",
      "151 kruisfontein\n",
      "152 svay rieng\n",
      "153 grindavik\n",
      "154 katsuura\n",
      "155 lethem\n",
      "156 north platte\n",
      "157 deputatskiy\n",
      "158 san patricio\n",
      "159 sakaiminato\n",
      "160 dikson\n",
      "161 grand gaube\n",
      "162 arlit\n",
      "163 port-gentil\n",
      "164 isa khel\n",
      "165 lompoc\n",
      "166 bargal\n",
      "City not found. Skipping...\n",
      "167 ocampo\n",
      "168 hithadhoo\n",
      "169 vila franca do campo\n",
      "170 wanning\n",
      "171 coquimbo\n",
      "172 libreville\n",
      "173 bredasdorp\n",
      "174 codrington\n",
      "175 mangrol\n",
      "176 namwala\n",
      "177 hualmay\n",
      "178 talaya\n",
      "179 isfana\n",
      "180 beyneu\n",
      "181 visby\n",
      "182 tocopilla\n",
      "183 akyab\n",
      "184 karaul\n",
      "City not found. Skipping...\n",
      "185 port macquarie\n",
      "186 avarua\n",
      "187 caucaia\n",
      "188 atuona\n",
      "189 atar\n",
      "190 fairbanks\n",
      "191 olafsvik\n",
      "192 sinkat\n",
      "City not found. Skipping...\n",
      "193 bambous virieux\n",
      "194 namatanai\n",
      "195 rodrigues alves\n",
      "196 bengkulu\n",
      "197 bermeo\n",
      "198 georgetown\n",
      "199 kasempa\n",
      "200 naugarzan\n",
      "City not found. Skipping...\n",
      "201 bonavista\n",
      "202 kirakira\n",
      "203 gat\n",
      "204 rock springs\n",
      "205 lebu\n",
      "206 mar del plata\n",
      "207 lasa\n",
      "208 amapa\n",
      "209 russell\n",
      "210 porgera\n",
      "211 vestmanna\n",
      "212 elko\n",
      "213 port lincoln\n",
      "214 vaovai\n",
      "City not found. Skipping...\n",
      "215 hostotipaquillo\n",
      "216 samusu\n",
      "City not found. Skipping...\n",
      "217 esperance\n",
      "218 abnub\n",
      "219 vao\n",
      "220 yumen\n",
      "221 basco\n",
      "222 phrai bung\n",
      "City not found. Skipping...\n",
      "223 marrakesh\n",
      "224 utete\n",
      "225 bereda\n",
      "226 tukrah\n",
      "227 ushtobe\n",
      "228 saint george\n",
      "229 gluckstadt\n",
      "230 vestmannaeyjar\n",
      "231 provideniya\n",
      "232 conde\n",
      "233 melendugno\n",
      "234 eureka\n",
      "235 kutum\n",
      "236 bolshegrivskoye\n",
      "City not found. Skipping...\n",
      "237 itarema\n",
      "238 mazamari\n",
      "239 norman wells\n",
      "240 kovdor\n",
      "241 iqaluit\n",
      "242 winneba\n",
      "243 kuryk\n",
      "244 qaqortoq\n",
      "245 andevoranto\n",
      "City not found. Skipping...\n",
      "246 saldanha\n",
      "247 warqla\n",
      "City not found. Skipping...\n",
      "248 cusset\n",
      "249 yeppoon\n",
      "250 lexington park\n",
      "251 klaksvik\n",
      "252 byron bay\n",
      "253 key largo\n",
      "254 tsihombe\n",
      "City not found. Skipping...\n",
      "255 san jose\n",
      "256 puerto carreno\n",
      "257 diamantino\n",
      "258 vidalia\n",
      "259 tonota\n",
      "260 cidreira\n",
      "261 burica\n",
      "City not found. Skipping...\n",
      "262 asyut\n",
      "263 puerto ayora\n",
      "264 palu\n",
      "265 ngama\n",
      "266 ambon\n",
      "267 kamenskoye\n",
      "City not found. Skipping...\n",
      "268 mpika\n",
      "269 nikolskoye\n",
      "270 tomatlan\n",
      "271 jever\n",
      "272 kibaya\n",
      "273 santa maria\n",
      "274 bolungarvik\n",
      "City not found. Skipping...\n",
      "275 flinders\n",
      "276 kloulklubed\n",
      "277 leningradskiy\n",
      "278 brattvag\n",
      "279 pandan\n",
      "280 kalemie\n",
      "281 petropavlovsk-kamchatskiy\n",
      "282 ceres\n",
      "283 tiarei\n",
      "284 grand river south east\n",
      "City not found. Skipping...\n",
      "285 bacolod\n",
      "286 avera\n",
      "287 huarmey\n",
      "288 kodiak\n",
      "289 tasiilaq\n",
      "290 hargeysa\n",
      "291 kazalinsk\n",
      "City not found. Skipping...\n",
      "292 harper\n",
      "293 kolokani\n",
      "294 wick\n",
      "295 victoria\n",
      "296 hirara\n",
      "297 andenes\n",
      "298 pitanga\n",
      "299 severo-kurilsk\n",
      "300 volzhsk\n",
      "301 jubb jannin\n",
      "City not found. Skipping...\n",
      "302 kamenka\n",
      "303 nikita\n",
      "304 ilo\n",
      "305 poum\n",
      "306 laurel\n",
      "307 mragowo\n",
      "308 boda\n",
      "309 grand-santi\n",
      "310 lazaro cardenas\n",
      "311 charlestown\n",
      "312 coihaique\n",
      "313 george town\n",
      "314 chapleau\n",
      "315 baglung\n",
      "316 priiskovyy\n",
      "317 tuam\n",
      "318 puerto escondido\n",
      "319 birao\n",
      "320 kiria\n",
      "321 sao joao do paraiso\n",
      "322 esfarayen\n",
      "323 betioky\n",
      "324 storforshei\n",
      "325 anju\n",
      "326 vila velha\n",
      "327 nekrasovskoye\n",
      "328 gazimurskiy zavod\n",
      "329 bonfim\n",
      "330 gulshat\n",
      "City not found. Skipping...\n",
      "331 karatau\n",
      "332 finnsnes\n",
      "333 zuenoula\n",
      "334 ware\n",
      "335 naze\n",
      "336 tabuk\n",
      "337 hirado\n",
      "338 antofagasta\n",
      "339 shirakawa\n",
      "340 wote\n",
      "341 roald\n",
      "342 ilulissat\n",
      "343 teya\n",
      "344 altay\n",
      "345 marcona\n",
      "City not found. Skipping...\n",
      "346 pacific grove\n",
      "347 praia da vitoria\n",
      "348 bunia\n",
      "349 ikongo\n",
      "350 palabuhanratu\n",
      "City not found. Skipping...\n",
      "351 angoche\n",
      "352 passo fundo\n",
      "353 privas\n",
      "354 verkhnyaya inta\n",
      "355 katsina\n",
      "356 haines junction\n",
      "357 katobu\n",
      "358 uong bi\n",
      "359 mandera\n",
      "360 balkhash\n",
      "361 faanui\n",
      "362 sinnamary\n",
      "363 ciudad bolivar\n",
      "364 meulaboh\n",
      "365 nome\n",
      "366 vanavara\n",
      "367 arvi\n",
      "368 acapulco\n",
      "369 juan de acosta\n",
      "370 kidal\n",
      "371 mayo\n",
      "372 mogadishu\n",
      "373 gravdal\n",
      "374 karamay\n",
      "City not found. Skipping...\n",
      "375 marienburg\n",
      "376 louisbourg\n",
      "City not found. Skipping...\n",
      "377 denpasar\n",
      "378 constitucion\n",
      "379 sherman\n",
      "380 kouango\n",
      "381 salalah\n",
      "382 gornopravdinsk\n",
      "383 sussex\n",
      "384 hun\n",
      "385 hobyo\n",
      "386 carora\n",
      "387 japura\n",
      "388 yongan\n",
      "389 junagarh\n",
      "390 saskylakh\n",
      "391 ewa beach\n",
      "392 novyy urengoy\n",
      "393 attawapiskat\n",
      "City not found. Skipping...\n",
      "394 souillac\n",
      "395 bhadrachalam\n",
      "396 dongsheng\n",
      "397 ayapel\n",
      "398 galesong\n",
      "399 batagay-alyta\n",
      "400 college\n",
      "401 narsaq\n",
      "402 ust-ilimsk\n",
      "403 yaan\n",
      "404 muskegon\n",
      "405 porto novo\n",
      "406 kamariotissa\n",
      "407 tommot\n",
      "408 sao filipe\n",
      "409 kiruna\n",
      "410 port blair\n",
      "411 oyama\n",
      "412 honiara\n",
      "413 meadow lake\n",
      "414 kahului\n",
      "415 paranhos\n",
      "416 faya\n",
      "417 rovnoye\n",
      "418 mossendjo\n",
      "419 nanortalik\n",
      "420 cariacica\n",
      "421 impfondo\n",
      "422 pareora\n",
      "423 boende\n",
      "424 cabo san lucas\n",
      "425 xam nua\n",
      "426 tuatapere\n",
      "427 khandyga\n",
      "428 tabou\n",
      "429 merauke\n",
      "430 nemuro\n",
      "431 el alto\n",
      "432 marseille\n",
      "433 laguna\n",
      "434 kenai\n",
      "435 halalo\n",
      "City not found. Skipping...\n",
      "436 nurota\n",
      "437 santa rosa\n",
      "438 fallon\n",
      "439 mocuba\n",
      "440 marathon\n",
      "441 norrtalje\n",
      "442 usakos\n",
      "443 storm lake\n",
      "444 copiapo\n",
      "445 el badari\n",
      "City not found. Skipping...\n",
      "446 haibowan\n",
      "City not found. Skipping...\n",
      "447 inderborskiy\n",
      "City not found. Skipping...\n",
      "448 komsomolskiy\n",
      "449 chinsali\n",
      "450 sorland\n",
      "451 boa vista\n",
      "452 westerly\n",
      "453 san andres\n",
      "454 tateyama\n",
      "455 novobiryusinskiy\n",
      "456 roma\n",
      "457 mnogovershinnyy\n",
      "458 korla\n",
      "459 lagoa\n",
      "460 sindand\n",
      "City not found. Skipping...\n",
      "461 usinsk\n",
      "462 fort nelson\n",
      "463 bogalusa\n",
      "464 saint-jean-de-maurienne\n",
      "465 winsum\n",
      "466 calama\n",
      "467 yulara\n",
      "468 alice springs\n",
      "469 ahipara\n",
      "470 vostok\n",
      "471 esmeraldas\n",
      "472 ostrovnoy\n",
      "473 sabang\n",
      "474 carutapera\n",
      "475 paidha\n",
      "476 opuwo\n",
      "477 luba\n",
      "478 panubigan\n",
      "479 okhotsk\n",
      "480 guerrero negro\n",
      "481 husavik\n",
      "482 fasa\n",
      "483 oktyabrskiy\n",
      "484 broken hill\n",
      "485 bela\n",
      "486 gazanjyk\n",
      "487 benjamin constant\n",
      "488 chitral\n",
      "489 conroe\n",
      "490 berlevag\n",
      "491 coachella\n",
      "492 marsa matruh\n",
      "493 kendari\n",
      "494 formosa\n",
      "495 mulchen\n",
      "496 vilyuysk\n",
      "497 general cepeda\n",
      "498 luderitz\n",
      "499 te anau\n",
      "500 seoul\n",
      "501 chenzhou\n",
      "502 bilibino\n",
      "503 buin\n",
      "504 marv dasht\n",
      "City not found. Skipping...\n",
      "505 morondava\n",
      "506 elizabeth city\n",
      "507 marion\n",
      "508 chamba\n",
      "509 morag\n",
      "510 jiayuguan\n",
      "511 bugene\n",
      "512 biak\n",
      "513 warrnambool\n",
      "514 jinchang\n",
      "515 lahaina\n",
      "516 singaparna\n",
      "517 walvis bay\n",
      "518 labrea\n",
      "519 hongjiang\n",
      "520 paamiut\n",
      "521 marovoay\n",
      "522 fuxin\n",
      "523 puerto del rosario\n",
      "524 iquique\n",
      "525 fukue\n",
      "526 xichang\n",
      "527 bandarbeyla\n",
      "528 rutana\n",
      "529 wulanhaote\n",
      "City not found. Skipping...\n",
      "530 niquelandia\n",
      "531 tambopata\n",
      "532 kjollefjord\n",
      "533 qandala\n"
     ]
    },
    {
     "name": "stdout",
     "output_type": "stream",
     "text": [
      "534 ksenyevka\n",
      "City not found. Skipping...\n",
      "535 bella vista\n",
      "536 tura\n",
      "537 labuhan\n",
      "538 syava\n",
      "539 manta\n",
      "540 hamilton\n",
      "541 kindu\n",
      "542 anadyr\n",
      "543 kalmunai\n",
      "544 la rioja\n",
      "545 paita\n",
      "546 berbera\n",
      "547 cayenne\n",
      "548 amuntai\n",
      "549 clarksdale\n",
      "550 hovd\n",
      "551 yataity\n",
      "552 tezu\n",
      "553 gbadolite\n",
      "554 kings mountain\n",
      "555 bosaso\n",
      "556 hattiesburg\n",
      "557 riyadh\n",
      "558 allanridge\n",
      "559 natchitoches\n",
      "560 tarrafal\n",
      "561 nargana\n",
      "562 mitu\n",
      "563 lavumisa\n",
      "564 shahreza\n",
      "565 kisiwani\n",
      "566 pandhana\n",
      "567 isangel\n",
      "568 biltine\n",
      "569 acajutla\n",
      "570 richards bay\n",
      "571 victoria point\n",
      "572 beringovskiy\n",
      "573 omboue\n",
      "574 bilma\n",
      "575 albertville\n",
      "576 east wenatchee bench\n",
      "577 arinos\n",
      "578 palmer\n",
      "579 oranjemund\n",
      "580 mahon\n",
      "581 tanout\n",
      "582 pinheiro machado\n",
      "583 henties bay\n",
      "584 pitimbu\n",
      "585 watertown\n",
      "586 chapais\n",
      "587 ketchikan\n",
      "588 barra do garcas\n",
      "589 forestville\n",
      "590 shache\n",
      "591 isla mujeres\n",
      "592 victor harbor\n",
      "593 santa marta de tormes\n",
      "594 pingzhuang\n",
      "595 porto velho\n",
      "596 show low\n",
      "597 forest park\n",
      "598 cheuskiny\n",
      "City not found. Skipping...\n",
      "599 inhambane\n",
      "600 ekhabi\n",
      "601 whyalla\n",
      "602 luanshya\n",
      "603 hasaki\n",
      "604 saint-louis\n",
      "605 genhe\n",
      "606 lieksa\n",
      "607 sechura\n",
      "608 mergui\n",
      "City not found. Skipping...\n",
      "609 svetlogorsk\n",
      "-----------------------------\n",
      "Data Retrieval Complete\n",
      "-----------------------------\n"
     ]
    }
   ],
   "source": [
    "print(\"Beginning Data Retrieval\")     \n",
    "print(\"-----------------------------\")\n",
    "\n",
    "count = 1\n",
    "\n",
    "for i, city in enumerate(cities):\n",
    "    link = url + \"&q=\" + city\n",
    "    print(count, city)\n",
    "    count += 1\n",
    "    \n",
    "    try: \n",
    "        weather_data = requests.get(link).json()\n",
    "        \n",
    "        lat = weather_data[\"coord\"][\"lat\"]\n",
    "        lon = weather_data[\"coord\"][\"lon\"]\n",
    "        max_temp = weather_data[\"main\"][\"temp_max\"]\n",
    "        humidity = weather_data[\"main\"][\"humidity\"]\n",
    "        cloudiness = weather_data[\"clouds\"][\"all\"]\n",
    "        wind = weather_data[\"wind\"][\"speed\"]\n",
    "        country = weather_data[\"sys\"][\"country\"]\n",
    "        date = weather_data[\"dt\"]\n",
    "\n",
    "        data.append({\"City\": city, \n",
    "                        \"Latitude\": lat, \n",
    "                          \"Longitude\": lon, \n",
    "                          \"Maximum Temp\": max_temp,\n",
    "                          \"Humidity\": humidity,\n",
    "                          \"Cloudiness\": cloudiness,\n",
    "                          \"Wind Speed\": wind,\n",
    "                          \"Country\": country,\n",
    "                          \"Date\": date})\n",
    "        \n",
    "    except:\n",
    "        print(\"City not found. Skipping...\")\n",
    "        pass\n",
    "    \n",
    "print(\"-----------------------------\")\n",
    "print(\"Data Retrieval Complete\")      \n",
    "print(\"-----------------------------\")"
   ]
  },
  {
   "cell_type": "markdown",
   "metadata": {},
   "source": [
    "### Convert Raw Data to DataFrame\n",
    "* Export the city data into a .csv.\n",
    "* Display the DataFrame"
   ]
  },
  {
   "cell_type": "code",
   "execution_count": 109,
   "metadata": {},
   "outputs": [],
   "source": [
    "data_df = pd.DataFrame(data)\n",
    "\n",
    "data_df.to_csv('cities.csv', index=True)"
   ]
  },
  {
   "cell_type": "code",
   "execution_count": 110,
   "metadata": {},
   "outputs": [
    {
     "data": {
      "text/html": [
       "<div>\n",
       "<style scoped>\n",
       "    .dataframe tbody tr th:only-of-type {\n",
       "        vertical-align: middle;\n",
       "    }\n",
       "\n",
       "    .dataframe tbody tr th {\n",
       "        vertical-align: top;\n",
       "    }\n",
       "\n",
       "    .dataframe thead th {\n",
       "        text-align: right;\n",
       "    }\n",
       "</style>\n",
       "<table border=\"1\" class=\"dataframe\">\n",
       "  <thead>\n",
       "    <tr style=\"text-align: right;\">\n",
       "      <th></th>\n",
       "      <th>City</th>\n",
       "      <th>Latitude</th>\n",
       "      <th>Longitude</th>\n",
       "      <th>Maximum Temp</th>\n",
       "      <th>Humidity</th>\n",
       "      <th>Cloudiness</th>\n",
       "      <th>Wind Speed</th>\n",
       "      <th>Country</th>\n",
       "      <th>Date</th>\n",
       "    </tr>\n",
       "  </thead>\n",
       "  <tbody>\n",
       "    <tr>\n",
       "      <td>0</td>\n",
       "      <td>yarensk</td>\n",
       "      <td>62.17</td>\n",
       "      <td>49.09</td>\n",
       "      <td>42.37</td>\n",
       "      <td>91</td>\n",
       "      <td>99</td>\n",
       "      <td>2.39</td>\n",
       "      <td>RU</td>\n",
       "      <td>1589843869</td>\n",
       "    </tr>\n",
       "    <tr>\n",
       "      <td>1</td>\n",
       "      <td>albany</td>\n",
       "      <td>42.60</td>\n",
       "      <td>-73.97</td>\n",
       "      <td>68.00</td>\n",
       "      <td>52</td>\n",
       "      <td>75</td>\n",
       "      <td>4.70</td>\n",
       "      <td>US</td>\n",
       "      <td>1589843716</td>\n",
       "    </tr>\n",
       "    <tr>\n",
       "      <td>2</td>\n",
       "      <td>portland</td>\n",
       "      <td>45.52</td>\n",
       "      <td>-122.68</td>\n",
       "      <td>60.80</td>\n",
       "      <td>72</td>\n",
       "      <td>90</td>\n",
       "      <td>5.82</td>\n",
       "      <td>US</td>\n",
       "      <td>1589843620</td>\n",
       "    </tr>\n",
       "    <tr>\n",
       "      <td>3</td>\n",
       "      <td>olyka</td>\n",
       "      <td>50.72</td>\n",
       "      <td>25.81</td>\n",
       "      <td>50.00</td>\n",
       "      <td>98</td>\n",
       "      <td>99</td>\n",
       "      <td>7.83</td>\n",
       "      <td>UA</td>\n",
       "      <td>1589843869</td>\n",
       "    </tr>\n",
       "    <tr>\n",
       "      <td>4</td>\n",
       "      <td>castro</td>\n",
       "      <td>-24.79</td>\n",
       "      <td>-50.01</td>\n",
       "      <td>54.59</td>\n",
       "      <td>59</td>\n",
       "      <td>0</td>\n",
       "      <td>4.99</td>\n",
       "      <td>BR</td>\n",
       "      <td>1589843869</td>\n",
       "    </tr>\n",
       "  </tbody>\n",
       "</table>\n",
       "</div>"
      ],
      "text/plain": [
       "       City  Latitude  Longitude  Maximum Temp  Humidity  Cloudiness  \\\n",
       "0   yarensk     62.17      49.09         42.37        91          99   \n",
       "1    albany     42.60     -73.97         68.00        52          75   \n",
       "2  portland     45.52    -122.68         60.80        72          90   \n",
       "3     olyka     50.72      25.81         50.00        98          99   \n",
       "4    castro    -24.79     -50.01         54.59        59           0   \n",
       "\n",
       "   Wind Speed Country        Date  \n",
       "0        2.39      RU  1589843869  \n",
       "1        4.70      US  1589843716  \n",
       "2        5.82      US  1589843620  \n",
       "3        7.83      UA  1589843869  \n",
       "4        4.99      BR  1589843869  "
      ]
     },
     "execution_count": 110,
     "metadata": {},
     "output_type": "execute_result"
    }
   ],
   "source": [
    "data_df.head()"
   ]
  },
  {
   "cell_type": "markdown",
   "metadata": {},
   "source": [
    "### Plotting the Data\n",
    "* Use proper labeling of the plots using plot titles (including date of analysis) and axes labels.\n",
    "* Save the plotted figures as .pngs."
   ]
  },
  {
   "cell_type": "code",
   "execution_count": 111,
   "metadata": {},
   "outputs": [],
   "source": [
    "lat_data = data_df[\"Latitude\"]\n",
    "temp_data = data_df[\"Maximum Temp\"]\n",
    "hum_data = data_df[\"Humidity\"]\n",
    "cloud_data = data_df[\"Cloudiness\"]\n",
    "wind_data = data_df[\"Wind Speed\"]"
   ]
  },
  {
   "cell_type": "markdown",
   "metadata": {},
   "source": [
    "#### Latitude vs. Temperature Plot"
   ]
  },
  {
   "cell_type": "code",
   "execution_count": 112,
   "metadata": {
    "scrolled": true
   },
   "outputs": [
    {
     "data": {
      "image/png": "[encoded data removed]",
      "text/plain": [
       "<Figure size 432x288 with 1 Axes>"
      ]
     },
     "metadata": {
      "needs_background": "light"
     },
     "output_type": "display_data"
    }
   ],
   "source": [
    "plt.scatter(lat_data, temp_data)\n",
    "plt.title(\"Latitude vs. Maximum Temp (F)\")\n",
    "plt.xlabel(\"Latitude\")\n",
    "plt.ylabel(\"Maximum Temp (F)\")\n",
    "\n",
    "plt.savefig(\"Lat_vs_temp.png\")"
   ]
  },
  {
   "cell_type": "markdown",
   "metadata": {},
   "source": [
    "In general, the further from the equater a city is the lower its maximum temperature. A handful of cities between the equater and 40 degrees latitude reached the highest temperatures, while cities furthest from the equater in the northern hemisphere reached the lowest maximum temperatures."
   ]
  },
  {
   "cell_type": "markdown",
   "metadata": {},
   "source": [
    "#### Latitude vs. Humidity Plot"
   ]
  },
  {
   "cell_type": "code",
   "execution_count": 113,
   "metadata": {},
   "outputs": [
    {
     "data": {
      "image/png": "[encoded data removed]",
      "text/plain": [
       "<Figure size 432x288 with 1 Axes>"
      ]
     },
     "metadata": {
      "needs_background": "light"
     },
     "output_type": "display_data"
    }
   ],
   "source": [
    "plt.scatter(lat_data, hum_data)\n",
    "plt.title(\"Latitude vs. Humidity (%)\")\n",
    "plt.xlabel(\"Latitude\")\n",
    "plt.ylabel(\"Humidity (%)\")\n",
    "\n",
    "plt.savefig(\"Lat_vs_humidity.png\")"
   ]
  },
  {
   "cell_type": "markdown",
   "metadata": {},
   "source": [
    "Cities near the equater tend to have humidity of 50% or more. Latitude and humidity do not otherwise have a clear relationship."
   ]
  },
  {
   "cell_type": "markdown",
   "metadata": {},
   "source": [
    "#### Latitude vs. Cloudiness Plot"
   ]
  },
  {
   "cell_type": "code",
   "execution_count": 114,
   "metadata": {},
   "outputs": [
    {
     "data": {
      "image/png": "[encoded data removed]",
      "text/plain": [
       "<Figure size 432x288 with 1 Axes>"
      ]
     },
     "metadata": {
      "needs_background": "light"
     },
     "output_type": "display_data"
    }
   ],
   "source": [
    "plt.scatter(lat_data, cloud_data)\n",
    "plt.title(\"Latitude vs. Cloudiness (%)\")\n",
    "plt.xlabel(\"Latitude\")\n",
    "plt.ylabel(\"Cloudiness (%)\")\n",
    "\n",
    "plt.savefig(\"Lat_vs_clouds.png\")"
   ]
  },
  {
   "cell_type": "markdown",
   "metadata": {},
   "source": [
    "The latitude and cloudiness of a city do not have a clear relationship."
   ]
  },
  {
   "cell_type": "markdown",
   "metadata": {},
   "source": [
    "#### Latitude vs. Wind Speed Plot"
   ]
  },
  {
   "cell_type": "code",
   "execution_count": 115,
   "metadata": {},
   "outputs": [
    {
     "data": {
      "image/png": "[encoded data removed]",
      "text/plain": [
       "<Figure size 432x288 with 1 Axes>"
      ]
     },
     "metadata": {
      "needs_background": "light"
     },
     "output_type": "display_data"
    }
   ],
   "source": [
    "plt.scatter(lat_data, wind_data)\n",
    "plt.title(\"Latitude vs. Wind Speed (mph)\")\n",
    "plt.xlabel(\"Latitude\")\n",
    "plt.ylabel(\"Wind Speed (mph)\")\n",
    "\n",
    "plt.savefig(\"Lat_vs_wind.png\")"
   ]
  },
  {
   "cell_type": "markdown",
   "metadata": {},
   "source": [
    "The latitude and observed wind speed in a city do not have a clear relationship."
   ]
  },
  {
   "cell_type": "markdown",
   "metadata": {},
   "source": [
    "## Linear Regression"
   ]
  },
  {
   "cell_type": "code",
   "execution_count": 116,
   "metadata": {},
   "outputs": [],
   "source": [
    "# OPTIONAL: Create a function to create Linear Regression plots\n",
    "def lin_regression_plot(x, y, title, coordinates):\n",
    "\n",
    "    (slope, intercept, rvalue, pvalue, stderr) = linregress(x, y)\n",
    "    regress_values = x * slope + intercept\n",
    "    line_eq = \"y = \" + str(round(slope,2)) + \"x + \" + str(round(intercept,2))\n",
    "\n",
    "    plt.scatter(x, y)\n",
    "    plt.plot(x,regress_values,\"r-\")\n",
    "    plt.annotate(line_eq,coordinates,fontsize=15,color=\"red\")\n",
    "    plt.xlabel('Latitude')\n",
    "    plt.ylabel(title)\n",
    "    plt.tight_layout()\n",
    "    plt.show()\n",
    "    print(f\"r-squared: {rvalue}\")"
   ]
  },
  {
   "cell_type": "code",
   "execution_count": 117,
   "metadata": {},
   "outputs": [],
   "source": [
    "# Create Northern and Southern Hemisphere DataFrames\n",
    "\n",
    "NH = data_df.loc[(data_df[\"Latitude\"] >= 0)]\n",
    "SH = data_df.loc[(data_df[\"Latitude\"] < 0)]"
   ]
  },
  {
   "cell_type": "markdown",
   "metadata": {},
   "source": [
    "####  Northern Hemisphere - Max Temp vs. Latitude Linear Regression"
   ]
  },
  {
   "cell_type": "code",
   "execution_count": 118,
   "metadata": {},
   "outputs": [
    {
     "data": {
      "image/png": "[encoded data removed]",
      "text/plain": [
       "<Figure size 432x288 with 1 Axes>"
      ]
     },
     "metadata": {
      "needs_background": "light"
     },
     "output_type": "display_data"
    },
    {
     "name": "stdout",
     "output_type": "stream",
     "text": [
      "r-squared: -0.8661899122912398\n"
     ]
    }
   ],
   "source": [
    "x = NH[\"Latitude\"]\n",
    "y = NH[\"Maximum Temp\"]\n",
    "lin_regression_plot(x, y, 'Maximum Temp (F)', (0, 25))"
   ]
  },
  {
   "cell_type": "markdown",
   "metadata": {},
   "source": [
    "There is a strong negative correlation between latitude and maximum temperature in the northern hemisphere."
   ]
  },
  {
   "cell_type": "markdown",
   "metadata": {},
   "source": [
    "####  Southern Hemisphere - Max Temp vs. Latitude Linear Regression"
   ]
  },
  {
   "cell_type": "code",
   "execution_count": 119,
   "metadata": {},
   "outputs": [
    {
     "data": {
      "image/png": "[encoded data removed]",
      "text/plain": [
       "<Figure size 432x288 with 1 Axes>"
      ]
     },
     "metadata": {
      "needs_background": "light"
     },
     "output_type": "display_data"
    },
    {
     "name": "stdout",
     "output_type": "stream",
     "text": [
      "r-squared: 0.7237071556514801\n"
     ]
    }
   ],
   "source": [
    "x = SH[\"Latitude\"]\n",
    "y = SH[\"Maximum Temp\"]\n",
    "lin_regression_plot(x, y, 'Maximum Temp (F)', (-50, 80))"
   ]
  },
  {
   "cell_type": "markdown",
   "metadata": {},
   "source": [
    "There is a strong positive correlation between latitude and maximum temperature in the southern hemisphere. "
   ]
  },
  {
   "cell_type": "markdown",
   "metadata": {},
   "source": [
    "####  Northern Hemisphere - Humidity (%) vs. Latitude Linear Regression"
   ]
  },
  {
   "cell_type": "code",
   "execution_count": 120,
   "metadata": {},
   "outputs": [
    {
     "data": {
      "image/png": "[encoded data removed]",
      "text/plain": [
       "<Figure size 432x288 with 1 Axes>"
      ]
     },
     "metadata": {
      "needs_background": "light"
     },
     "output_type": "display_data"
    },
    {
     "name": "stdout",
     "output_type": "stream",
     "text": [
      "r-squared: 0.1334550915252847\n"
     ]
    }
   ],
   "source": [
    "x = NH[\"Latitude\"]\n",
    "y = NH[\"Humidity\"]\n",
    "lin_regression_plot(x, y, 'Humidity (%)', (45, 0))"
   ]
  },
  {
   "cell_type": "markdown",
   "metadata": {},
   "source": [
    "There is a weak positive correlation between latitude and humidity in the northern hemisphere."
   ]
  },
  {
   "cell_type": "markdown",
   "metadata": {},
   "source": [
    "####  Southern Hemisphere - Humidity (%) vs. Latitude Linear Regression"
   ]
  },
  {
   "cell_type": "code",
   "execution_count": 121,
   "metadata": {},
   "outputs": [
    {
     "data": {
      "image/png": "[encoded data removed]",
      "text/plain": [
       "<Figure size 432x288 with 1 Axes>"
      ]
     },
     "metadata": {
      "needs_background": "light"
     },
     "output_type": "display_data"
    },
    {
     "name": "stdout",
     "output_type": "stream",
     "text": [
      "r-squared: 0.18159298085527117\n"
     ]
    }
   ],
   "source": [
    "x = SH[\"Latitude\"]\n",
    "y = SH[\"Humidity\"]\n",
    "lin_regression_plot(x, y, 'Humidity (%)', (-50, 20))"
   ]
  },
  {
   "cell_type": "markdown",
   "metadata": {},
   "source": [
    "There is a weak positive correlation between latitude and humidity in the southern hemisphere."
   ]
  },
  {
   "cell_type": "markdown",
   "metadata": {},
   "source": [
    "####  Northern Hemisphere - Cloudiness (%) vs. Latitude Linear Regression"
   ]
  },
  {
   "cell_type": "code",
   "execution_count": 122,
   "metadata": {},
   "outputs": [
    {
     "data": {
      "image/png": "[encoded data removed]",
      "text/plain": [
       "<Figure size 432x288 with 1 Axes>"
      ]
     },
     "metadata": {
      "needs_background": "light"
     },
     "output_type": "display_data"
    },
    {
     "name": "stdout",
     "output_type": "stream",
     "text": [
      "r-squared: 0.09003752293672036\n"
     ]
    }
   ],
   "source": [
    "x = NH[\"Latitude\"]\n",
    "y = NH[\"Cloudiness\"]\n",
    "lin_regression_plot(x, y, 'Cloudiness (%)', (45, 65))"
   ]
  },
  {
   "cell_type": "markdown",
   "metadata": {},
   "source": [
    "There is a very weak positive correlation or no relationship between latitude and cloudiness in the northern hemisphere."
   ]
  },
  {
   "cell_type": "markdown",
   "metadata": {},
   "source": [
    "####  Southern Hemisphere - Cloudiness (%) vs. Latitude Linear Regression"
   ]
  },
  {
   "cell_type": "code",
   "execution_count": 123,
   "metadata": {},
   "outputs": [
    {
     "data": {
      "image/png": "[encoded data removed]",
      "text/plain": [
       "<Figure size 432x288 with 1 Axes>"
      ]
     },
     "metadata": {
      "needs_background": "light"
     },
     "output_type": "display_data"
    },
    {
     "name": "stdout",
     "output_type": "stream",
     "text": [
      "r-squared: -0.000794488327907503\n"
     ]
    }
   ],
   "source": [
    "x = SH[\"Latitude\"]\n",
    "y = SH[\"Cloudiness\"]\n",
    "lin_regression_plot(x, y, 'Cloudiness (%)', (-50, 30))"
   ]
  },
  {
   "cell_type": "markdown",
   "metadata": {},
   "source": [
    "There is a very weak negative correlation or no relationship between latitude and cloudiness in the southern hemisphere."
   ]
  },
  {
   "cell_type": "markdown",
   "metadata": {},
   "source": [
    "####  Northern Hemisphere - Wind Speed (mph) vs. Latitude Linear Regression"
   ]
  },
  {
   "cell_type": "code",
   "execution_count": 124,
   "metadata": {},
   "outputs": [
    {
     "data": {
      "image/png": "[encoded data removed]",
      "text/plain": [
       "<Figure size 432x288 with 1 Axes>"
      ]
     },
     "metadata": {
      "needs_background": "light"
     },
     "output_type": "display_data"
    },
    {
     "name": "stdout",
     "output_type": "stream",
     "text": [
      "r-squared: -0.018040459279920623\n"
     ]
    }
   ],
   "source": [
    "x = NH[\"Latitude\"]\n",
    "y = NH[\"Wind Speed\"]\n",
    "lin_regression_plot(x, y, 'Wind Speed (mph)', (50,30))"
   ]
  },
  {
   "cell_type": "markdown",
   "metadata": {},
   "source": [
    "There is a very weak negative correlation / no relationship between latitude and wind speed in the nothern hemisphere."
   ]
  },
  {
   "cell_type": "markdown",
   "metadata": {},
   "source": [
    "####  Southern Hemisphere - Wind Speed (mph) vs. Latitude Linear Regression"
   ]
  },
  {
   "cell_type": "code",
   "execution_count": 125,
   "metadata": {},
   "outputs": [
    {
     "data": {
      "image/png": "[encoded data removed]",
      "text/plain": [
       "<Figure size 432x288 with 1 Axes>"
      ]
     },
     "metadata": {
      "needs_background": "light"
     },
     "output_type": "display_data"
    },
    {
     "name": "stdout",
     "output_type": "stream",
     "text": [
      "r-squared: -0.07736927646210583\n"
     ]
    }
   ],
   "source": [
    "x = SH[\"Latitude\"]\n",
    "y = SH[\"Wind Speed\"]\n",
    "lin_regression_plot(x, y, 'Wind Speed (mph)', (-55,22))"
   ]
  },
  {
   "cell_type": "markdown",
   "metadata": {},
   "source": [
    "There is a very weak negative correlation / no relationship between latitude and wind speed in the southern hemisphere."
   ]
  }
 ],
 "metadata": {
  "anaconda-cloud": {},
  "kernel_info": {
   "name": "python3"
  },
  "kernelspec": {
   "display_name": "Python 3",
   "language": "python",
   "name": "python3"
  },
  "language_info": {
   "codemirror_mode": {
    "name": "ipython",
    "version": 3
   },
   "file_extension": ".py",
   "mimetype": "text/x-python",
   "name": "python",
   "nbconvert_exporter": "python",
   "pygments_lexer": "ipython3",
   "version": "3.7.4"
  },
  "latex_envs": {
   "LaTeX_envs_menu_present": true,
   "autoclose": false,
   "autocomplete": true,
   "bibliofile": "biblio.bib",
   "cite_by": "apalike",
   "current_citInitial": 1,
   "eqLabelWithNumbers": true,
   "eqNumInitial": 1,
   "hotkeys": {
    "equation": "Ctrl-E",
    "itemize": "Ctrl-I"
   },
   "labels_anchors": false,
   "latex_user_defs": false,
   "report_style_numbering": false,
   "user_envs_cfg": false
  },
  "nteract": {
   "version": "0.12.3"
  }
 },
 "nbformat": 4,
 "nbformat_minor": 2
}
